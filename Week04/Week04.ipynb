{
 "cells": [
  {
   "cell_type": "markdown",
   "id": "b205b425-35c7-4adf-aa03-b1a9aca5baee",
   "metadata": {},
   "source": [
    "## FinTech 545 - Project Week 04"
   ]
  },
  {
   "cell_type": "markdown",
   "id": "fbb9face-f9ed-4f93-820e-084b92007b6f",
   "metadata": {},
   "source": [
    "## Renjie Wang"
   ]
  },
  {
   "cell_type": "markdown",
   "id": "372046e4-4049-4e05-b819-2cbee12c8d4b",
   "metadata": {},
   "source": [
    "## Problem 1"
   ]
  },
  {
   "cell_type": "markdown",
   "id": "525e9a52-1615-4fca-8f59-02c4bdec8227",
   "metadata": {},
   "source": [
    "a."
   ]
  },
  {
   "cell_type": "code",
   "execution_count": 1,
   "id": "238a13a7-e945-4a02-a04e-9f64073d0ce6",
   "metadata": {},
   "outputs": [
    {
     "data": {
      "text/plain": [
       "array([ 1.62434536, -0.61175641, -0.52817175, ..., -0.59616095,\n",
       "        1.18603988,  0.31339801])"
      ]
     },
     "execution_count": 1,
     "metadata": {},
     "output_type": "execute_result"
    }
   ],
   "source": [
    "import numpy as np\n",
    "\n",
    "# Set the basic assumption r_t ~ N(0, sigma2)\n",
    "p_previous = 10\n",
    "sigma = 1\n",
    "sample_size = 1000000\n",
    "\n",
    "# Generate the return\n",
    "np.random.seed(1) # Set the seed for reproductivity\n",
    "rtn = np.random.normal(0, sigma, sample_size)\n",
    "\n",
    "rtn"
   ]
  },
  {
   "cell_type": "code",
   "execution_count": 2,
   "id": "555de571-5839-4b1b-814e-99e92cd5391d",
   "metadata": {},
   "outputs": [
    {
     "name": "stdout",
     "output_type": "stream",
     "text": [
      "Mean is 16.487212707001284. Standard deviation is 21.61197415895088.\n"
     ]
    }
   ],
   "source": [
    "import math\n",
    "\n",
    "# Calculating the mean and standard deviation for GBM in expectations (if P_{t-1} = 10, sigma=1)\n",
    "mean = 10 * math.exp(1/2)\n",
    "std = 10 * math.sqrt(math.exp(1) * (math.exp(1) - 1))\n",
    "print(f'Mean is {mean}. Standard deviation is {std}.')"
   ]
  },
  {
   "cell_type": "code",
   "execution_count": 3,
   "id": "c88e63ac-bd85-4032-a011-1eba8c22853f",
   "metadata": {},
   "outputs": [
    {
     "name": "stdout",
     "output_type": "stream",
     "text": [
      "The mean for classical brownian motion is 10.000651804308019.\n",
      "The standard deviation for classical brownian motion is 0.9994898471333155.\n",
      "\n",
      "The mean for arithmetic return system is 10.00651804308019.\n",
      "The standard deviation for arithmetic return system is 9.994898471333157.\n",
      "\n",
      "The mean for geometric brownian motion is 16.483261876433.\n",
      "The standard deviation for geometric brownian motion is 21.51613842836062.\n"
     ]
    }
   ],
   "source": [
    "# Classical Brownian Motion\n",
    "# EXPECTATIONS - mean = 10, std = 1\n",
    "cbm = p_previous + rtn\n",
    "print(f'The mean for classical brownian motion is {cbm.mean()}.')\n",
    "print(f'The standard deviation for classical brownian motion is {cbm.std()}.\\n')\n",
    "\n",
    "# Arithmetic Return System\n",
    "# EXPECTATIONS - mean = 10, std = 10\n",
    "ars = p_previous * (1 + rtn)\n",
    "print(f'The mean for arithmetic return system is {ars.mean()}.')\n",
    "print(f'The standard deviation for arithmetic return system is {ars.std()}.\\n')\n",
    "\n",
    "# Geometric Brownian Motion\n",
    "# EXPECTATIONS - mean = 16.487212707001284, std = 21.61197415895088\n",
    "gbm = p_previous * np.exp(rtn)\n",
    "print(f'The mean for geometric brownian motion is {gbm.mean()}.')\n",
    "print(f'The standard deviation for geometric brownian motion is {gbm.std()}.')"
   ]
  },
  {
   "cell_type": "markdown",
   "id": "b332a919-e5c5-4b8b-99bb-b19749e59447",
   "metadata": {},
   "source": [
    "## Problem 2"
   ]
  },
  {
   "cell_type": "code",
   "execution_count": 4,
   "id": "b7aad6bb-c6a9-4b47-a2a3-b3be56c91eed",
   "metadata": {},
   "outputs": [],
   "source": [
    "import pandas as pd\n",
    "\n",
    "# Implement the function to calculate the return\n",
    "def return_calculate(prices, method='Classical Brownian Motion', dateColumn='Date'):\n",
    "    # Exclude the date column from the calculations\n",
    "    tickers = [col for col in prices.columns if col != dateColumn]\n",
    "    df = prices[tickers] # The dataframe is now with no date column.\n",
    "    \n",
    "    # Calculate the return using Classical Brownian Motion.\n",
    "    if method == 'Classical Brownian Motion':\n",
    "        df = df.diff().dropna()\n",
    "    \n",
    "    # Calculate the return using Arithmetic Return System.\n",
    "    elif method == 'Arithmetic Return System':\n",
    "        df = (df - df.shift(1)) / df.shift(1)\n",
    "        df = df.dropna()\n",
    "        \n",
    "    # Calculate the return using Geometric Brownian Motion.\n",
    "    elif method == 'Geometric Brownian Motion':\n",
    "        df = np.log(df).diff().dropna()\n",
    "        \n",
    "    else:\n",
    "        raise ValueError(f\"method: {method} must be in (\\\"Classical Brownian Motion\\\",\\\"Arithmetic Return System\\\",\\\"Geometric Brownian Motion\\\")\")\n",
    "    \n",
    "    return df"
   ]
  },
  {
   "cell_type": "code",
   "execution_count": 5,
   "id": "3ddceccb-29f8-4beb-89f5-19eb2c481777",
   "metadata": {},
   "outputs": [
    {
     "data": {
      "text/html": [
       "<div>\n",
       "<style scoped>\n",
       "    .dataframe tbody tr th:only-of-type {\n",
       "        vertical-align: middle;\n",
       "    }\n",
       "\n",
       "    .dataframe tbody tr th {\n",
       "        vertical-align: top;\n",
       "    }\n",
       "\n",
       "    .dataframe thead th {\n",
       "        text-align: right;\n",
       "    }\n",
       "</style>\n",
       "<table border=\"1\" class=\"dataframe\">\n",
       "  <thead>\n",
       "    <tr style=\"text-align: right;\">\n",
       "      <th></th>\n",
       "      <th>SPY</th>\n",
       "      <th>AAPL</th>\n",
       "      <th>MSFT</th>\n",
       "      <th>AMZN</th>\n",
       "      <th>NVDA</th>\n",
       "      <th>GOOGL</th>\n",
       "      <th>TSLA</th>\n",
       "      <th>GOOG</th>\n",
       "      <th>BRK-B</th>\n",
       "      <th>META</th>\n",
       "      <th>...</th>\n",
       "      <th>CI</th>\n",
       "      <th>ETN</th>\n",
       "      <th>SLB</th>\n",
       "      <th>PGR</th>\n",
       "      <th>SCHW</th>\n",
       "      <th>LRCX</th>\n",
       "      <th>ZTS</th>\n",
       "      <th>C</th>\n",
       "      <th>BSX</th>\n",
       "      <th>AMT</th>\n",
       "    </tr>\n",
       "  </thead>\n",
       "  <tbody>\n",
       "    <tr>\n",
       "      <th>1</th>\n",
       "      <td>-0.010544</td>\n",
       "      <td>-0.013611</td>\n",
       "      <td>-0.016667</td>\n",
       "      <td>-0.002425</td>\n",
       "      <td>-0.020808</td>\n",
       "      <td>-0.017223</td>\n",
       "      <td>-0.025076</td>\n",
       "      <td>-0.016915</td>\n",
       "      <td>-0.016854</td>\n",
       "      <td>-0.030479</td>\n",
       "      <td>...</td>\n",
       "      <td>-0.001180</td>\n",
       "      <td>-0.010593</td>\n",
       "      <td>0.033107</td>\n",
       "      <td>-0.010428</td>\n",
       "      <td>-0.019242</td>\n",
       "      <td>-0.004236</td>\n",
       "      <td>-0.015244</td>\n",
       "      <td>0.001846</td>\n",
       "      <td>-0.012198</td>\n",
       "      <td>-0.026355</td>\n",
       "    </tr>\n",
       "    <tr>\n",
       "      <th>2</th>\n",
       "      <td>-0.003773</td>\n",
       "      <td>-0.008215</td>\n",
       "      <td>-0.010974</td>\n",
       "      <td>-0.010980</td>\n",
       "      <td>-0.013336</td>\n",
       "      <td>-0.009643</td>\n",
       "      <td>0.015581</td>\n",
       "      <td>-0.011042</td>\n",
       "      <td>-0.003890</td>\n",
       "      <td>-0.011103</td>\n",
       "      <td>...</td>\n",
       "      <td>-0.004641</td>\n",
       "      <td>0.008449</td>\n",
       "      <td>-0.014118</td>\n",
       "      <td>0.000572</td>\n",
       "      <td>0.001848</td>\n",
       "      <td>-0.008019</td>\n",
       "      <td>-0.000892</td>\n",
       "      <td>-0.012695</td>\n",
       "      <td>-0.002717</td>\n",
       "      <td>0.013275</td>\n",
       "    </tr>\n",
       "    <tr>\n",
       "      <th>3</th>\n",
       "      <td>0.017965</td>\n",
       "      <td>0.009254</td>\n",
       "      <td>0.019111</td>\n",
       "      <td>0.026723</td>\n",
       "      <td>0.018795</td>\n",
       "      <td>0.024717</td>\n",
       "      <td>0.033817</td>\n",
       "      <td>0.027912</td>\n",
       "      <td>0.016089</td>\n",
       "      <td>0.011669</td>\n",
       "      <td>...</td>\n",
       "      <td>0.016652</td>\n",
       "      <td>0.020295</td>\n",
       "      <td>-0.008030</td>\n",
       "      <td>0.038537</td>\n",
       "      <td>0.018731</td>\n",
       "      <td>0.012279</td>\n",
       "      <td>0.022698</td>\n",
       "      <td>0.008503</td>\n",
       "      <td>0.026994</td>\n",
       "      <td>0.020930</td>\n",
       "    </tr>\n",
       "    <tr>\n",
       "      <th>4</th>\n",
       "      <td>0.006536</td>\n",
       "      <td>-0.009618</td>\n",
       "      <td>0.001666</td>\n",
       "      <td>0.002626</td>\n",
       "      <td>0.020126</td>\n",
       "      <td>-0.009776</td>\n",
       "      <td>0.019598</td>\n",
       "      <td>-0.009595</td>\n",
       "      <td>0.008184</td>\n",
       "      <td>0.010412</td>\n",
       "      <td>...</td>\n",
       "      <td>0.002448</td>\n",
       "      <td>0.013945</td>\n",
       "      <td>0.029951</td>\n",
       "      <td>0.015880</td>\n",
       "      <td>0.019083</td>\n",
       "      <td>0.016574</td>\n",
       "      <td>-0.011908</td>\n",
       "      <td>0.026116</td>\n",
       "      <td>0.029901</td>\n",
       "      <td>0.008362</td>\n",
       "    </tr>\n",
       "    <tr>\n",
       "      <th>5</th>\n",
       "      <td>0.015535</td>\n",
       "      <td>0.018840</td>\n",
       "      <td>0.022977</td>\n",
       "      <td>0.026575</td>\n",
       "      <td>0.028377</td>\n",
       "      <td>0.020945</td>\n",
       "      <td>0.036023</td>\n",
       "      <td>0.021568</td>\n",
       "      <td>0.008576</td>\n",
       "      <td>0.043749</td>\n",
       "      <td>...</td>\n",
       "      <td>0.007327</td>\n",
       "      <td>0.017244</td>\n",
       "      <td>0.038774</td>\n",
       "      <td>-0.004179</td>\n",
       "      <td>0.018863</td>\n",
       "      <td>0.026460</td>\n",
       "      <td>0.036721</td>\n",
       "      <td>0.015431</td>\n",
       "      <td>0.005385</td>\n",
       "      <td>-0.000306</td>\n",
       "    </tr>\n",
       "    <tr>\n",
       "      <th>...</th>\n",
       "      <td>...</td>\n",
       "      <td>...</td>\n",
       "      <td>...</td>\n",
       "      <td>...</td>\n",
       "      <td>...</td>\n",
       "      <td>...</td>\n",
       "      <td>...</td>\n",
       "      <td>...</td>\n",
       "      <td>...</td>\n",
       "      <td>...</td>\n",
       "      <td>...</td>\n",
       "      <td>...</td>\n",
       "      <td>...</td>\n",
       "      <td>...</td>\n",
       "      <td>...</td>\n",
       "      <td>...</td>\n",
       "      <td>...</td>\n",
       "      <td>...</td>\n",
       "      <td>...</td>\n",
       "      <td>...</td>\n",
       "      <td>...</td>\n",
       "    </tr>\n",
       "    <tr>\n",
       "      <th>261</th>\n",
       "      <td>0.000586</td>\n",
       "      <td>0.016913</td>\n",
       "      <td>-0.003513</td>\n",
       "      <td>-0.002920</td>\n",
       "      <td>0.001503</td>\n",
       "      <td>0.005895</td>\n",
       "      <td>-0.033201</td>\n",
       "      <td>0.004772</td>\n",
       "      <td>0.006986</td>\n",
       "      <td>0.007459</td>\n",
       "      <td>...</td>\n",
       "      <td>0.007485</td>\n",
       "      <td>0.006938</td>\n",
       "      <td>0.010399</td>\n",
       "      <td>0.013118</td>\n",
       "      <td>-0.006183</td>\n",
       "      <td>0.020125</td>\n",
       "      <td>-0.003329</td>\n",
       "      <td>-0.001639</td>\n",
       "      <td>0.001890</td>\n",
       "      <td>-0.003386</td>\n",
       "    </tr>\n",
       "    <tr>\n",
       "      <th>262</th>\n",
       "      <td>-0.002074</td>\n",
       "      <td>0.006181</td>\n",
       "      <td>-0.001246</td>\n",
       "      <td>-0.016788</td>\n",
       "      <td>-0.010144</td>\n",
       "      <td>-0.001230</td>\n",
       "      <td>0.004599</td>\n",
       "      <td>-0.000936</td>\n",
       "      <td>0.000135</td>\n",
       "      <td>0.008329</td>\n",
       "      <td>...</td>\n",
       "      <td>-0.002453</td>\n",
       "      <td>-0.013644</td>\n",
       "      <td>-0.012743</td>\n",
       "      <td>0.013589</td>\n",
       "      <td>-0.002247</td>\n",
       "      <td>-0.016519</td>\n",
       "      <td>0.012970</td>\n",
       "      <td>0.000938</td>\n",
       "      <td>0.000566</td>\n",
       "      <td>-0.012087</td>\n",
       "    </tr>\n",
       "    <tr>\n",
       "      <th>263</th>\n",
       "      <td>-0.009193</td>\n",
       "      <td>-0.019992</td>\n",
       "      <td>-0.023977</td>\n",
       "      <td>-0.017002</td>\n",
       "      <td>-0.029435</td>\n",
       "      <td>-0.031150</td>\n",
       "      <td>-0.014672</td>\n",
       "      <td>-0.030541</td>\n",
       "      <td>-0.009879</td>\n",
       "      <td>-0.017701</td>\n",
       "      <td>...</td>\n",
       "      <td>0.009450</td>\n",
       "      <td>-0.006986</td>\n",
       "      <td>-0.010591</td>\n",
       "      <td>0.001544</td>\n",
       "      <td>-0.018361</td>\n",
       "      <td>-0.010062</td>\n",
       "      <td>-0.002748</td>\n",
       "      <td>-0.008903</td>\n",
       "      <td>0.020177</td>\n",
       "      <td>0.000282</td>\n",
       "    </tr>\n",
       "    <tr>\n",
       "      <th>264</th>\n",
       "      <td>-0.016528</td>\n",
       "      <td>-0.008889</td>\n",
       "      <td>-0.003866</td>\n",
       "      <td>-0.044053</td>\n",
       "      <td>-0.028931</td>\n",
       "      <td>-0.024675</td>\n",
       "      <td>-0.026239</td>\n",
       "      <td>-0.023999</td>\n",
       "      <td>-0.009651</td>\n",
       "      <td>-0.013148</td>\n",
       "      <td>...</td>\n",
       "      <td>0.012216</td>\n",
       "      <td>-0.018635</td>\n",
       "      <td>-0.016223</td>\n",
       "      <td>-0.002032</td>\n",
       "      <td>-0.011646</td>\n",
       "      <td>-0.013686</td>\n",
       "      <td>-0.026725</td>\n",
       "      <td>-0.013948</td>\n",
       "      <td>-0.002403</td>\n",
       "      <td>-0.045601</td>\n",
       "    </tr>\n",
       "    <tr>\n",
       "      <th>265</th>\n",
       "      <td>-0.002249</td>\n",
       "      <td>0.004945</td>\n",
       "      <td>-0.007887</td>\n",
       "      <td>-0.001624</td>\n",
       "      <td>0.014457</td>\n",
       "      <td>-0.001457</td>\n",
       "      <td>-0.042315</td>\n",
       "      <td>-0.000837</td>\n",
       "      <td>-0.008588</td>\n",
       "      <td>0.011328</td>\n",
       "      <td>...</td>\n",
       "      <td>-0.004814</td>\n",
       "      <td>0.009542</td>\n",
       "      <td>0.003740</td>\n",
       "      <td>0.006039</td>\n",
       "      <td>-0.015354</td>\n",
       "      <td>0.014286</td>\n",
       "      <td>0.000283</td>\n",
       "      <td>-0.018940</td>\n",
       "      <td>-0.006856</td>\n",
       "      <td>-0.018368</td>\n",
       "    </tr>\n",
       "  </tbody>\n",
       "</table>\n",
       "<p>265 rows × 101 columns</p>\n",
       "</div>"
      ],
      "text/plain": [
       "          SPY      AAPL      MSFT      AMZN      NVDA     GOOGL      TSLA  \\\n",
       "1   -0.010544 -0.013611 -0.016667 -0.002425 -0.020808 -0.017223 -0.025076   \n",
       "2   -0.003773 -0.008215 -0.010974 -0.010980 -0.013336 -0.009643  0.015581   \n",
       "3    0.017965  0.009254  0.019111  0.026723  0.018795  0.024717  0.033817   \n",
       "4    0.006536 -0.009618  0.001666  0.002626  0.020126 -0.009776  0.019598   \n",
       "5    0.015535  0.018840  0.022977  0.026575  0.028377  0.020945  0.036023   \n",
       "..        ...       ...       ...       ...       ...       ...       ...   \n",
       "261  0.000586  0.016913 -0.003513 -0.002920  0.001503  0.005895 -0.033201   \n",
       "262 -0.002074  0.006181 -0.001246 -0.016788 -0.010144 -0.001230  0.004599   \n",
       "263 -0.009193 -0.019992 -0.023977 -0.017002 -0.029435 -0.031150 -0.014672   \n",
       "264 -0.016528 -0.008889 -0.003866 -0.044053 -0.028931 -0.024675 -0.026239   \n",
       "265 -0.002249  0.004945 -0.007887 -0.001624  0.014457 -0.001457 -0.042315   \n",
       "\n",
       "         GOOG     BRK-B      META  ...        CI       ETN       SLB  \\\n",
       "1   -0.016915 -0.016854 -0.030479  ... -0.001180 -0.010593  0.033107   \n",
       "2   -0.011042 -0.003890 -0.011103  ... -0.004641  0.008449 -0.014118   \n",
       "3    0.027912  0.016089  0.011669  ...  0.016652  0.020295 -0.008030   \n",
       "4   -0.009595  0.008184  0.010412  ...  0.002448  0.013945  0.029951   \n",
       "5    0.021568  0.008576  0.043749  ...  0.007327  0.017244  0.038774   \n",
       "..        ...       ...       ...  ...       ...       ...       ...   \n",
       "261  0.004772  0.006986  0.007459  ...  0.007485  0.006938  0.010399   \n",
       "262 -0.000936  0.000135  0.008329  ... -0.002453 -0.013644 -0.012743   \n",
       "263 -0.030541 -0.009879 -0.017701  ...  0.009450 -0.006986 -0.010591   \n",
       "264 -0.023999 -0.009651 -0.013148  ...  0.012216 -0.018635 -0.016223   \n",
       "265 -0.000837 -0.008588  0.011328  ... -0.004814  0.009542  0.003740   \n",
       "\n",
       "          PGR      SCHW      LRCX       ZTS         C       BSX       AMT  \n",
       "1   -0.010428 -0.019242 -0.004236 -0.015244  0.001846 -0.012198 -0.026355  \n",
       "2    0.000572  0.001848 -0.008019 -0.000892 -0.012695 -0.002717  0.013275  \n",
       "3    0.038537  0.018731  0.012279  0.022698  0.008503  0.026994  0.020930  \n",
       "4    0.015880  0.019083  0.016574 -0.011908  0.026116  0.029901  0.008362  \n",
       "5   -0.004179  0.018863  0.026460  0.036721  0.015431  0.005385 -0.000306  \n",
       "..        ...       ...       ...       ...       ...       ...       ...  \n",
       "261  0.013118 -0.006183  0.020125 -0.003329 -0.001639  0.001890 -0.003386  \n",
       "262  0.013589 -0.002247 -0.016519  0.012970  0.000938  0.000566 -0.012087  \n",
       "263  0.001544 -0.018361 -0.010062 -0.002748 -0.008903  0.020177  0.000282  \n",
       "264 -0.002032 -0.011646 -0.013686 -0.026725 -0.013948 -0.002403 -0.045601  \n",
       "265  0.006039 -0.015354  0.014286  0.000283 -0.018940 -0.006856 -0.018368  \n",
       "\n",
       "[265 rows x 101 columns]"
      ]
     },
     "execution_count": 5,
     "metadata": {},
     "output_type": "execute_result"
    }
   ],
   "source": [
    "df = pd.read_csv('DailyPrices.csv')\n",
    "\n",
    "# Calculate the arithmetic returns for all prices\n",
    "arithmetic_rtn = return_calculate(df, 'Arithmetic Return System')\n",
    "arithmetic_rtn"
   ]
  },
  {
   "cell_type": "code",
   "execution_count": 6,
   "id": "14f8d0cc-df5d-4133-84e6-8594834323c5",
   "metadata": {},
   "outputs": [
    {
     "data": {
      "text/plain": [
       "1     -0.033266\n",
       "2     -0.013890\n",
       "3      0.008882\n",
       "4      0.007625\n",
       "5      0.040962\n",
       "         ...   \n",
       "261    0.004672\n",
       "262    0.005542\n",
       "263   -0.020488\n",
       "264   -0.015935\n",
       "265    0.008541\n",
       "Name: META, Length: 265, dtype: float64"
      ]
     },
     "execution_count": 6,
     "metadata": {},
     "output_type": "execute_result"
    }
   ],
   "source": [
    "# Centering the data\n",
    "meta = arithmetic_rtn['META'] - arithmetic_rtn['META'].mean()\n",
    "meta"
   ]
  },
  {
   "cell_type": "markdown",
   "id": "3c3a717a-a929-48dc-acba-adf64208c6d9",
   "metadata": {},
   "source": [
    "1. Using a normal distribution"
   ]
  },
  {
   "cell_type": "code",
   "execution_count": 7,
   "id": "d81681a1-7318-49a9-a316-16082e536c91",
   "metadata": {},
   "outputs": [
    {
     "name": "stdout",
     "output_type": "stream",
     "text": [
      "The percentage VaR with normal distribution is 0.05428693242254697.\n",
      "The dollar VaR with normal distribution is 16.236135043205227.\n"
     ]
    }
   ],
   "source": [
    "from scipy.stats import norm\n",
    "\n",
    "# Calculate the Z-score for a 5% significance level\n",
    "alpha = 0.05\n",
    "Z_score = norm.ppf(alpha)\n",
    "\n",
    "# Calculate the percentage and dollar basis VaR.\n",
    "var_pct = -Z_score * meta.std()\n",
    "var_dollar = df['META'].iloc[-1] * var_pct\n",
    "\n",
    "print(f'The percentage VaR with normal distribution is {var_pct}.')\n",
    "print(f'The dollar VaR with normal distribution is {var_dollar}.')"
   ]
  },
  {
   "cell_type": "markdown",
   "id": "919f98ef-3a3f-405b-9fea-31abc58a21da",
   "metadata": {},
   "source": [
    "2. Using a normal distribution with an Exponentially Weighted variance (lambda = 0.94)"
   ]
  },
  {
   "cell_type": "code",
   "execution_count": 8,
   "id": "c61e605c-2da0-4681-857a-a704dd2b4fac",
   "metadata": {},
   "outputs": [
    {
     "name": "stdout",
     "output_type": "stream",
     "text": [
      "The percentage VaR with normal distribution and Exponentially Weighted variance is 0.029981852889775472.\n",
      "The dollar VaR with normal distribution and Exponentially Weighted variance is 8.96697217250996.\n"
     ]
    }
   ],
   "source": [
    "# Calculating the Exponentially Weighted variance\n",
    "def ew_var(data, lmbd):\n",
    "    ew_var = np.zeros(len(data))\n",
    "    # Set the initial variance value as the \n",
    "    ew_var[0] = meta.std() ** 2\n",
    "    \n",
    "    # Iterate through the whole process to get the variance.\n",
    "    for i in range(1, len(meta)):\n",
    "        ew_var[i] = lmbd * ew_var[i-1] + (1 - lmbd) * (meta.iloc[i-1]) ** 2\n",
    "    return ew_var[-1]\n",
    "        \n",
    "# Calculate the Z-score for a 5% significance level\n",
    "alpha = 0.05\n",
    "Z_score = norm.ppf(alpha)\n",
    "\n",
    "# Calculate the standard deviation with Exponentially Weighted variance\n",
    "lmbd = 0.94\n",
    "weights = np.array([(1 - lmbd) * (lmbd ** i) for i in range(len(meta))][::-1])\n",
    "std = math.sqrt(np.sum(weights * (meta - meta.mean()) ** 2) / np.sum(weights))\n",
    "\n",
    "# Calculate the percentage and dollar basis VaR.\n",
    "var_pct = -Z_score * std\n",
    "var_dollar = df['META'].iloc[-1] * var_pct\n",
    "\n",
    "print(f'The percentage VaR with normal distribution and Exponentially Weighted variance is {var_pct}.')\n",
    "print(f'The dollar VaR with normal distribution and Exponentially Weighted variance is {var_dollar}.')"
   ]
  },
  {
   "cell_type": "markdown",
   "id": "283a5341-9b62-41c8-8797-1679642f8594",
   "metadata": {},
   "source": [
    "3. Using a MLE fitted T distribution"
   ]
  },
  {
   "cell_type": "code",
   "execution_count": 9,
   "id": "06c5e0a3-ca02-4121-a88c-c2b79a3dab0d",
   "metadata": {},
   "outputs": [
    {
     "name": "stdout",
     "output_type": "stream",
     "text": [
      "The percentage VaR with MLE fitted T distribution is 0.043134714950376095.\n",
      "The dollar VaR with MLE fitted T distribution is 12.900729986607189.\n"
     ]
    }
   ],
   "source": [
    "from scipy.stats import t\n",
    "\n",
    "# Fit the t distribution.\n",
    "params = t.fit(meta)\n",
    "dof, loc, scale = params\n",
    "\n",
    "# Calculate the percentage and dollar basis VaR.\n",
    "confidence_level = 0.05\n",
    "var_pct = -t.ppf(confidence_level, dof, loc, scale)\n",
    "var_dollar = df['META'].iloc[-1] * var_pct\n",
    "\n",
    "print(f'The percentage VaR with MLE fitted T distribution is {var_pct}.')\n",
    "print(f'The dollar VaR with MLE fitted T distribution is {var_dollar}.')"
   ]
  },
  {
   "cell_type": "markdown",
   "id": "7b9e96d7-104a-4e2b-9eae-4feb0cbb639a",
   "metadata": {},
   "source": [
    "4. Using a fitted AR(1) model"
   ]
  },
  {
   "cell_type": "code",
   "execution_count": 10,
   "id": "552c678d-aa50-4ade-a5ec-4cdf6a020361",
   "metadata": {},
   "outputs": [
    {
     "name": "stdout",
     "output_type": "stream",
     "text": [
      "The percentage VaR with AR(1) model is 0.054229240493192964.\n",
      "The dollar VaR with AR(1) model is 16.218880541724026.\n"
     ]
    },
    {
     "name": "stderr",
     "output_type": "stream",
     "text": [
      "E:\\Anaconda\\lib\\site-packages\\statsmodels\\tsa\\base\\tsa_model.py:471: ValueWarning: An unsupported index was provided and will be ignored when e.g. forecasting.\n",
      "  self._init_dates(dates, freq)\n",
      "E:\\Anaconda\\lib\\site-packages\\statsmodels\\tsa\\base\\tsa_model.py:471: ValueWarning: An unsupported index was provided and will be ignored when e.g. forecasting.\n",
      "  self._init_dates(dates, freq)\n",
      "E:\\Anaconda\\lib\\site-packages\\statsmodels\\tsa\\base\\tsa_model.py:471: ValueWarning: An unsupported index was provided and will be ignored when e.g. forecasting.\n",
      "  self._init_dates(dates, freq)\n"
     ]
    }
   ],
   "source": [
    "import statsmodels.api as sm\n",
    "\n",
    "# Fit an AR(1) model\n",
    "model = sm.tsa.ARIMA(meta, order=(1, 0, 0))\n",
    "results = model.fit()\n",
    "\n",
    "# Get the standard deviation for the model\n",
    "variance = np.var(results.resid, ddof=1)\n",
    "std = math.sqrt(variance)\n",
    "\n",
    "# Calculate the Z-score for a 5% significance level\n",
    "alpha = 0.05\n",
    "Z_score = norm.ppf(alpha)\n",
    "\n",
    "# Calculate the percentage and dollar basis VaR.\n",
    "var_pct = -Z_score * std\n",
    "var_dollar = df['META'].iloc[-1] * var_pct\n",
    "\n",
    "print(f'The percentage VaR with AR(1) model is {var_pct}.')\n",
    "print(f'The dollar VaR with AR(1) model is {var_dollar}.')"
   ]
  },
  {
   "cell_type": "markdown",
   "id": "ca86626d-3819-46ec-9b6d-1122d5e4df4c",
   "metadata": {},
   "source": [
    "5. Using a Historic Simulation"
   ]
  },
  {
   "cell_type": "code",
   "execution_count": 11,
   "id": "18155c41-1d21-4645-b4ef-5333a7129fa3",
   "metadata": {},
   "outputs": [
    {
     "name": "stdout",
     "output_type": "stream",
     "text": [
      "The percentage VaR with historic simulation is 0.039507685483096466.\n",
      "The dollar VaR with historic simulation is 11.815958060684581.\n"
     ]
    }
   ],
   "source": [
    "# The number of draws I want to simulate\n",
    "N = 100000\n",
    "\n",
    "# Use numpy's random.choice to draw N samples with replacement\n",
    "np.random.seed(2)\n",
    "simulated_draws = np.random.choice(meta, size=N, replace=True)\n",
    "\n",
    "# Sorted the value in order to get the alpha% of the distribution\n",
    "sorted_returns = np.sort(simulated_draws)\n",
    "\n",
    "# Calculate the percentage and dollar basis VaR.\n",
    "var_index = int(len(sorted_returns) * 0.05)\n",
    "var_pct = -sorted_returns[var_index]\n",
    "var_dollar = df['META'].iloc[-1] * var_pct\n",
    "\n",
    "print(f'The percentage VaR with historic simulation is {var_pct}.')\n",
    "print(f'The dollar VaR with historic simulation is {var_dollar}.')"
   ]
  },
  {
   "cell_type": "markdown",
   "id": "d3bce96f-97bd-4b87-8f50-f1df977116c3",
   "metadata": {},
   "source": [
    "## Problem 3"
   ]
  },
  {
   "cell_type": "code",
   "execution_count": 12,
   "id": "020bd739-593b-4f42-968f-2530fe92f516",
   "metadata": {},
   "outputs": [],
   "source": [
    "# Read all the data\n",
    "port = pd.read_csv('Portfolio.csv')\n",
    "price = pd.read_csv('DailyPrices.csv').drop('Date', axis=1)\n",
    "\n",
    "# Calculating the daily return for the stock using Arithmetic Return System\n",
    "rtn = return_calculate(price, 'Arithmetic Return System')\n",
    "\n",
    "# Calculating the daily return for the stock using Geometric Brownian Motion\n",
    "rtn_GBM = return_calculate(price, 'Geometric Brownian Motion')\n",
    "\n",
    "# Get the current price (the last row in price - most recent one)\n",
    "price = price.iloc[-1]\n",
    "price = price.reset_index()\n",
    "price.columns = ['Stock', 'Price']\n",
    "\n",
    "# Separate the portfolio.\n",
    "port_A = port[port['Portfolio'] == 'A']\n",
    "port_B = port[port['Portfolio'] == 'B']\n",
    "port_C = port[port['Portfolio'] == 'C']\n",
    "\n",
    "# Merge the holding and price to one dataframe\n",
    "A_merged = pd.merge(port_A, price, on='Stock')\n",
    "B_merged = pd.merge(port_B, price, on='Stock')\n",
    "C_merged = pd.merge(port_C, price, on='Stock')\n",
    "total_merged = pd.merge(port, price, on='Stock')"
   ]
  },
  {
   "cell_type": "code",
   "execution_count": 13,
   "id": "e340acf3-3ddb-4305-9c7e-b7a2aa9f15e0",
   "metadata": {},
   "outputs": [
    {
     "name": "stdout",
     "output_type": "stream",
     "text": [
      "The VaR for portfolio A is 15206.390964355218.\n"
     ]
    }
   ],
   "source": [
    "# Portfolio A\n",
    "A_invested = port_A['Stock'].unique()\n",
    "A_merged['Value'] = A_merged['Holding'] * A_merged['Price']\n",
    "\n",
    "# Calculate the portfolio value and the weight\n",
    "A_pv = A_merged['Value'].sum()\n",
    "A_merged['Weight'] = A_merged['Value'] / A_pv\n",
    "\n",
    "# Filter the return dataframe for portfolio A\n",
    "A_rtn = rtn[A_invested]\n",
    "\n",
    "# Build up the EW covariance matrix.\n",
    "lmbd = 0.94\n",
    "ew_cov = A_rtn.ewm(alpha=1-lmbd, adjust=True).cov(pairwise=True).iloc[-len(A_invested):]\n",
    "\n",
    "# Calculate the standard deviation for the portfolio A.\n",
    "A_std = math.sqrt(A_merged['Weight'].values.T @ ew_cov @ A_merged['Weight'].values)\n",
    "\n",
    "# Calculate the Z-score for a 5% significance level\n",
    "alpha = 0.05\n",
    "Z_score = norm.ppf(alpha)\n",
    "\n",
    "A_VaR = - A_pv * Z_score * A_std\n",
    "print(f'The VaR for portfolio A is {A_VaR}.')"
   ]
  },
  {
   "cell_type": "code",
   "execution_count": 14,
   "id": "bdb107b4-c831-49b7-84fb-98cf2b1d3163",
   "metadata": {},
   "outputs": [
    {
     "name": "stdout",
     "output_type": "stream",
     "text": [
      "The VaR for portfolio B is 7741.25098095781.\n"
     ]
    }
   ],
   "source": [
    "# Portfolio B\n",
    "B_invested = port_B['Stock'].unique()\n",
    "B_merged['Value'] = B_merged['Holding'] * B_merged['Price']\n",
    "\n",
    "# Calculate the portfolio value and the weight\n",
    "B_pv = B_merged['Value'].sum()\n",
    "B_merged['Weight'] = B_merged['Value'] / B_pv\n",
    "\n",
    "# Filter the return dataframe for portfolio B\n",
    "B_rtn = rtn[B_invested]\n",
    "\n",
    "# Build up the EW covariance matrix.\n",
    "lmbd = 0.94\n",
    "ew_cov = B_rtn.ewm(alpha=1-lmbd, adjust=True).cov(pairwise=True).iloc[-len(B_invested):]\n",
    "\n",
    "# Calculate the standard deviation for the portfolio B.\n",
    "B_std = math.sqrt(B_merged['Weight'].values.T @ ew_cov @ B_merged['Weight'].values)\n",
    "\n",
    "# Calculate the Z-score for a 5% significance level\n",
    "alpha = 0.05\n",
    "Z_score = norm.ppf(alpha)\n",
    "\n",
    "B_VaR = - B_pv * Z_score * B_std\n",
    "print(f'The VaR for portfolio B is {B_VaR}.')"
   ]
  },
  {
   "cell_type": "code",
   "execution_count": 15,
   "id": "26588de9-ece6-4166-9bbb-ca9218818b88",
   "metadata": {},
   "outputs": [
    {
     "name": "stdout",
     "output_type": "stream",
     "text": [
      "The VaR for portfolio C is 17877.733059250826.\n"
     ]
    }
   ],
   "source": [
    "# Portfolio C\n",
    "C_invested = port_C['Stock'].unique()\n",
    "C_merged['Value'] = C_merged['Holding'] * C_merged['Price']\n",
    "\n",
    "# Calculate the portfolio value and the weight\n",
    "C_pv = C_merged['Value'].sum()\n",
    "C_merged['Weight'] = C_merged['Value'] / C_pv\n",
    "\n",
    "# Filter the return dataframe for portfolio C\n",
    "C_rtn = rtn[C_invested]\n",
    "\n",
    "# Build up the EW covariance matrix.\n",
    "lmbd = 0.94\n",
    "ew_cov = C_rtn.ewm(alpha=1-lmbd, adjust=True).cov(pairwise=True).iloc[-len(C_invested):]\n",
    "\n",
    "# Calculate the standard deviation for the portfolio C.\n",
    "C_std = math.sqrt(C_merged['Weight'].values.T @ ew_cov @ C_merged['Weight'].values)\n",
    "\n",
    "# Calculate the Z-score for a 5% significance level\n",
    "alpha = 0.05\n",
    "Z_score = norm.ppf(alpha)\n",
    "\n",
    "C_VaR = - C_pv * Z_score * C_std\n",
    "print(f'The VaR for portfolio C is {C_VaR}.')"
   ]
  },
  {
   "cell_type": "code",
   "execution_count": 16,
   "id": "708301db-c3aa-454a-9d83-88d86b29924c",
   "metadata": {},
   "outputs": [
    {
     "name": "stdout",
     "output_type": "stream",
     "text": [
      "The VaR for total portfoilo is 37972.294549340135.\n"
     ]
    }
   ],
   "source": [
    "# Portfolio Total\n",
    "total_invested = port['Stock'].unique()\n",
    "total_merged['Value'] = total_merged['Holding'] * total_merged['Price']\n",
    "\n",
    "# Calculate the portfolio value and the weight\n",
    "total_pv = total_merged['Value'].sum()\n",
    "total_merged['Weight'] = total_merged['Value'] / total_pv\n",
    "\n",
    "# Filter the return dataframe for the who portfolio \n",
    "total_rtn = rtn[total_invested]\n",
    "\n",
    "# Build up the EW covariance matrix.\n",
    "lmbd = 0.94\n",
    "ew_cov = total_rtn.ewm(alpha=1-lmbd, adjust=True).cov(pairwise=True).iloc[-len(total_invested):]\n",
    "\n",
    "# Calculate the standard deviation for the whole portfolio.\n",
    "total_std = math.sqrt(total_merged['Weight'].values.T @ ew_cov @ total_merged['Weight'].values)\n",
    "\n",
    "# Calculate the Z-score for a 5% significance level\n",
    "alpha = 0.05\n",
    "Z_score = norm.ppf(alpha)\n",
    "\n",
    "total_VaR = - total_pv * Z_score * total_std\n",
    "print(f'The VaR for total portfoilo is {total_VaR}.')"
   ]
  },
  {
   "cell_type": "code",
   "execution_count": 17,
   "id": "42197b38-ad61-462c-97be-562e1dfefed9",
   "metadata": {},
   "outputs": [
    {
     "name": "stdout",
     "output_type": "stream",
     "text": [
      "The VaR for portfolio A is 15242.08890793187.\n"
     ]
    }
   ],
   "source": [
    "# Portfolio A\n",
    "A_invested = port_A['Stock'].unique()\n",
    "A_merged['Value'] = A_merged['Holding'] * A_merged['Price']\n",
    "\n",
    "# Calculate the portfolio value and the weight\n",
    "A_pv = A_merged['Value'].sum()\n",
    "A_merged['Weight'] = A_merged['Value'] / A_pv\n",
    "\n",
    "# Filter the return dataframe for portfolio A\n",
    "A_rtn_GBM = rtn_GBM[A_invested]\n",
    "\n",
    "# Build up the EW covariance matrix.\n",
    "lmbd = 0.94\n",
    "ew_cov = A_rtn_GBM.ewm(alpha=1-lmbd, adjust=True).cov(pairwise=True).iloc[-len(A_invested):]\n",
    "\n",
    "# Calculate the standard deviation for the portfolio A.\n",
    "A_std = math.sqrt(A_merged['Weight'].values.T @ ew_cov @ A_merged['Weight'].values)\n",
    "\n",
    "# Calculate the Z-score for a 5% significance level\n",
    "alpha = 0.05\n",
    "Z_score = norm.ppf(alpha)\n",
    "\n",
    "A_VaR = - A_pv * Z_score * A_std\n",
    "print(f'The VaR for portfolio A is {A_VaR}.')"
   ]
  },
  {
   "cell_type": "code",
   "execution_count": 18,
   "id": "c5367d5d-1505-4d91-b204-8026a9695e53",
   "metadata": {},
   "outputs": [
    {
     "name": "stdout",
     "output_type": "stream",
     "text": [
      "The VaR for portfolio B is 7775.086037432662.\n"
     ]
    }
   ],
   "source": [
    "# Portfolio B\n",
    "B_invested = port_B['Stock'].unique()\n",
    "B_merged['Value'] = B_merged['Holding'] * B_merged['Price']\n",
    "\n",
    "# Calculate the portfolio value and the weight\n",
    "B_pv = B_merged['Value'].sum()\n",
    "B_merged['Weight'] = B_merged['Value'] / B_pv\n",
    "\n",
    "# Filter the return dataframe for portfolio B\n",
    "B_rtn_GBM = rtn_GBM[B_invested]\n",
    "\n",
    "# Build up the EW covariance matrix.\n",
    "lmbd = 0.94\n",
    "ew_cov = B_rtn_GBM.ewm(alpha=1-lmbd, adjust=True).cov(pairwise=True).iloc[-len(B_invested):]\n",
    "\n",
    "# Calculate the standard deviation for the portfolio B.\n",
    "B_std = math.sqrt(B_merged['Weight'].values.T @ ew_cov @ B_merged['Weight'].values)\n",
    "\n",
    "# Calculate the Z-score for a 5% significance level\n",
    "alpha = 0.05\n",
    "Z_score = norm.ppf(alpha)\n",
    "\n",
    "B_VaR = - B_pv * Z_score * B_std\n",
    "print(f'The VaR for portfolio B is {B_VaR}.')"
   ]
  },
  {
   "cell_type": "code",
   "execution_count": 19,
   "id": "1774f58f-2328-424b-9c5f-5619700563fa",
   "metadata": {},
   "outputs": [
    {
     "name": "stdout",
     "output_type": "stream",
     "text": [
      "The VaR for portfolio C is 17836.00187829113.\n"
     ]
    }
   ],
   "source": [
    "# Portfolio C\n",
    "C_invested = port_C['Stock'].unique()\n",
    "C_merged['Value'] = C_merged['Holding'] * C_merged['Price']\n",
    "\n",
    "# Calculate the portfolio value and the weight\n",
    "C_pv = C_merged['Value'].sum()\n",
    "C_merged['Weight'] = C_merged['Value'] / C_pv\n",
    "\n",
    "# Filter the return dataframe for portfolio C\n",
    "C_rtn_GBM = rtn_GBM[C_invested]\n",
    "\n",
    "# Build up the EW covariance matrix.\n",
    "lmbd = 0.94\n",
    "ew_cov = C_rtn_GBM.ewm(alpha=1-lmbd, adjust=True).cov(pairwise=True).iloc[-len(C_invested):]\n",
    "\n",
    "# Calculate the standard deviation for the portfolio C.\n",
    "C_std = math.sqrt(C_merged['Weight'].values.T @ ew_cov @ C_merged['Weight'].values)\n",
    "\n",
    "# Calculate the Z-score for a 5% significance level\n",
    "alpha = 0.05\n",
    "Z_score = norm.ppf(alpha)\n",
    "\n",
    "C_VaR = - C_pv * Z_score * C_std\n",
    "print(f'The VaR for portfolio C is {C_VaR}.')"
   ]
  },
  {
   "cell_type": "code",
   "execution_count": 20,
   "id": "67c46551-1c8e-4666-8597-f961bcb4edd1",
   "metadata": {},
   "outputs": [
    {
     "name": "stdout",
     "output_type": "stream",
     "text": [
      "The VaR for total portfolio is 38039.2767219111.\n"
     ]
    }
   ],
   "source": [
    "# Portfolio Total\n",
    "total_invested = port['Stock'].unique()\n",
    "total_merged['Value'] = total_merged['Holding'] * total_merged['Price']\n",
    "\n",
    "# Calculate the portfolio value and the weight\n",
    "total_pv = total_merged['Value'].sum()\n",
    "total_merged['Weight'] = total_merged['Value'] / total_pv\n",
    "\n",
    "# Filter the return dataframe for the who portfolio \n",
    "total_rtn_GBM = rtn_GBM[total_invested]\n",
    "\n",
    "# Build up the EW covariance matrix.\n",
    "lmbd = 0.94\n",
    "ew_cov = total_rtn_GBM.ewm(alpha=1-lmbd, adjust=True).cov(pairwise=True).iloc[-len(total_invested):]\n",
    "\n",
    "# Calculate the standard deviation for the whole portfolio.\n",
    "total_std = math.sqrt(total_merged['Weight'].values.T @ ew_cov @ total_merged['Weight'].values)\n",
    "\n",
    "# Calculate the Z-score for a 5% significance level\n",
    "alpha = 0.05\n",
    "Z_score = norm.ppf(alpha)\n",
    "\n",
    "total_VaR = - total_pv * Z_score * total_std\n",
    "print(f'The VaR for total portfolio is {total_VaR}.')"
   ]
  }
 ],
 "metadata": {
  "kernelspec": {
   "display_name": "Python 3 (ipykernel)",
   "language": "python",
   "name": "python3"
  },
  "language_info": {
   "codemirror_mode": {
    "name": "ipython",
    "version": 3
   },
   "file_extension": ".py",
   "mimetype": "text/x-python",
   "name": "python",
   "nbconvert_exporter": "python",
   "pygments_lexer": "ipython3",
   "version": "3.9.12"
  }
 },
 "nbformat": 4,
 "nbformat_minor": 5
}
